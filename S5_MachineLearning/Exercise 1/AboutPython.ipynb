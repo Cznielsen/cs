{
 "cells": [
  {
   "cell_type": "markdown",
   "metadata": {},
   "source": [
    "# About Python, NumPy, and Ipython\n",
    "\n",
    "Here we will a brief acquaintance with the [Python](https://www.python.org/) programming language, and particular <font color=\"red\">list comprehensions</font>, [NumPy](http://www.numpy.org/) and [MatplotLib](http://matplotlib.org/) from the [scipy](https://scipy.org/) ecosystem, as a language for machine learning. We will be using Python 3 here, which is not compatible with Python 2.x. For an introduction to Python the [Python Tutorial](https://docs.python.org/3.5/tutorial/index.html) is a great place to start; Similarly for [Getting Started](http://scipy.org/getting-started.html) with the Numpy and Matplotlib good places to start are the Numpy [Quickstart tutorial](http://docs.scipy.org/doc/numpy-dev/user/quickstart.html) and the [pyplot tutorial](http://matplotlib.org/users/pyplot_tutorial.html). If you have earlier experience with MATLAB, then the [Numpy for Matlab users](https://docs.scipy.org/doc/numpy-dev/user/numpy-for-matlab-users.html) document is a useful reference.\n",
    "\n",
    "Use [IPython](http://ipython.readthedocs.io/en/stable/) to develop and test your code.\n",
    "\n"
   ]
  },
  {
   "cell_type": "code",
   "execution_count": 19,
   "metadata": {},
   "outputs": [
    {
     "name": "stdout",
     "output_type": "stream",
     "text": [
      "Im not in the function\n",
      "hello world!\n",
      "hello world from HelloWorld Class! - __init__ is my constructor\n",
      "Chuck Berry\n",
      "1\n",
      "2\n",
      "3\n",
      "4\n",
      "5\n",
      "[1, 3, 5, 7, 9]\n",
      "letsmakealist: [1, 2, 3, 4, 5, 6, 7]\n",
      "letsmakeaset: {1, 2, 3, 4, 42}\n",
      "letsmakeamap: {1: 2, 2: 3, '3': 4}\n",
      "square of odd [1, 9, 25, 49, 81]\n",
      "odd to square odd dict: {1: 1, 3: 9, 5: 25, 7: 49, 9: 81}\n",
      "what is the square of 3: 9\n",
      "Lets move on to numpy - the main library used for manipulating vectors and matrices in python\n"
     ]
    }
   ],
   "source": [
    "# magic notebook command ensures plot are embedded in the notebook\n",
    "%matplotlib inline \n",
    "\n",
    "# the hello world of python. Notice the : and indentation that define the code \n",
    "def helloworld():\n",
    "    print('hello world!')\n",
    "    \n",
    "\n",
    "print('Im not in the function')\n",
    "\n",
    "helloworld()\n",
    "# Classes\n",
    "class HelloWorld():\n",
    "    \n",
    "    def __init__(self):\n",
    "        self.text = 'hello world from HelloWorld Class! - __init__ is my constructor'\n",
    "\n",
    "    def johnny_be_good(self): # self is the object itself do not forget\n",
    "        print('Chuck Berry')\n",
    "c = HelloWorld()\n",
    "print(c.text)\n",
    "c.johnny_be_good()\n",
    "\n",
    "# lets print numbers from 1 -> 5. Notice range goes to 6\n",
    "for x in range(1, 6):\n",
    "    print(x)\n",
    "# odd numbers from 1, 10\n",
    "odd = list(range(1, 10, 2))\n",
    "print(odd)\n",
    "letsmakealist = [1,2,3,4,5,6,7]\n",
    "print('letsmakealist:', letsmakealist)\n",
    "letsmakeaset = {1,1,1,2,3,2,1,2,3,1,4,42}\n",
    "print('letsmakeaset:', letsmakeaset)\n",
    "letsmakeadictionary = {1:2, 2:3, '3':4}\n",
    "print('letsmakeamap:', letsmakeadictionary)\n",
    "# lets compute the square of each odd number with list comprehensin\n",
    "sq = [x**2 for x in odd]\n",
    "print('square of odd', sq) # pretty cool\n",
    "# lets make a map from x to x^2 using dictionary comprehension (zip allows to iterate over several iterables at once)\n",
    "od_sq_dict = {x:y for x,y in zip(odd,sq)}\n",
    "print('odd to square odd dict:', od_sq_dict)\n",
    "print('what is the square of 3:', od_sq_dict[3])\n",
    "print('Lets move on to numpy - the main library used for manipulating vectors and matrices in python')"
   ]
  },
  {
   "cell_type": "code",
   "execution_count": 23,
   "metadata": {},
   "outputs": [
    {
     "name": "stdout",
     "output_type": "stream",
     "text": [
      "What is X[0,0]: 1.0\n",
      "First 3 rows and columns of dat:\n",
      "[[  1.   1.   1.]\n",
      " [  1.   1.  32.]\n",
      " [  1.   1.   1.]]\n"
     ]
    },
    {
     "data": {
      "text/plain": [
       "[<matplotlib.lines.Line2D at 0x10a8c61d0>]"
      ]
     },
     "execution_count": 23,
     "metadata": {},
     "output_type": "execute_result"
    },
    {
     "data": {
      "image/png": "[encoded data removed]",
      "text/plain": [
       "<matplotlib.figure.Figure at 0x10a714320>"
      ]
     },
     "metadata": {},
     "output_type": "display_data"
    }
   ],
   "source": [
    "%matplotlib inline\n",
    "import numpy as np\n",
    "import matplotlib.pyplot as plt\n",
    "\n",
    "# Numpy is the module we use for working with matrices and vectors eficiently in python \n",
    "# There are several ways of creating numpy arrays. Here is a way of making a lot of ones in a matrix.\n",
    "dat = np.ones((7,3))\n",
    "dat[1,2] = 32\n",
    "# NumPy arrays are indexes from 0. X1[0,0] is the first value of the first input point (and should be 1)\n",
    "print('What is X[0,0]: {0}'.format(dat[0,0]))\n",
    "\n",
    "# We can also index rows and columns of the NumPy array. For instance the first column is X1[:,0]\n",
    "# Here : indexes all rows and 0 indexes the first colums. This notation also supports ranges natually.\n",
    "# As an example lets see the first 3 rows and columns\n",
    "print(\"First 3 rows and columns of dat:\")\n",
    "print(dat[0:3,0:3])\n",
    "\n",
    "## Loading and saving data\n",
    "# We can load and save NumPy arrays using the commands load and savez\n",
    "target = -1 * np.ones((7,))\n",
    "np.savez('myfile.npz', dat=dat, target=target)\n",
    "myfile = np.load('myfile.npz')\n",
    "dat = myfile['dat']\n",
    "target = myfile['target']\n",
    "\n",
    "## finally plotting lets plot the odd square from above in red with lines connecting and stars as markers\n",
    "plt.plot(odd, sq, 'r-*')"
   ]
  },
  {
   "cell_type": "markdown",
   "metadata": {},
   "source": [
    "## Boolean arrays (aka filters)\n",
    "\n",
    "From Boolean expressions used on NumPy arrays we can compute arrays of Booleans. This is sometimes also called a *filter*. The reason for this is that we can use a Boolean array for indexing another array. We can also extract an array of the true indices of a filter. This can be useful in conjunction with np.random.choice"
   ]
  },
  {
   "cell_type": "code",
   "execution_count": 5,
   "metadata": {},
   "outputs": [
    {
     "name": "stdout",
     "output_type": "stream",
     "text": [
      "[-1  1 -1 -1  1 -1 -1 -1 -1  1]\n",
      "[False  True False False  True False False False False  True]\n",
      "[0 1 0 0 1 0 0 0 0 1]\n",
      "[1 4 9]\n",
      "Random index of a 1 entry of y: 1\n"
     ]
    }
   ],
   "source": [
    "# random array of -1,1 values\n",
    "y = 2*np.random.randint(2, size=10)-1\n",
    "# construct filter for indices with value 1\n",
    "pos = (y==1)\n",
    "# get array of true indices\n",
    "indices = pos.nonzero()[0]\n",
    "# the array y\n",
    "print(y)\n",
    "# the filter obtained from y\n",
    "print(pos)\n",
    "# printed as 0/1 values\n",
    "print(pos.astype(int))\n",
    "# the true indices\n",
    "print(indices)\n",
    "# selecting a random index\n",
    "print('Random index of a 1 entry of y:',np.random.choice(indices))"
   ]
  },
  {
   "cell_type": "markdown",
   "metadata": {},
   "source": [
    "If we have two filters a and b, we can combine them using Pythons bitwise operators: a&b is the intersection, a|b is the union, and ~a is the complement of a. This is useful when plotting e.g. the data points with label -1 that are classified incorrectly by the hyperplane, or combined with np.random.choise(indices)"
   ]
  },
  {
   "cell_type": "markdown",
   "metadata": {},
   "source": [
    "## Vectorization\n",
    "\n",
    "Vectorization is an important concept for getting efficient Python code. What we mean by vectorization is doing batch processing of data avoiding the explicit use of for loops, and instead making use of internal implementations of array operations of NumPy. This is precisely what we did above for constructing filters. Try to experiment yourself! You can time your code using the timeit function of Python. You should find that the speed increase by vectorization is by orders of magnitude!"
   ]
  },
  {
   "cell_type": "code",
   "execution_count": 6,
   "metadata": {},
   "outputs": [
    {
     "name": "stdout",
     "output_type": "stream",
     "text": [
      "7.49 µs ± 1.19 µs per loop (mean ± std. dev. of 7 runs, 100 loops each)\n",
      "2.24 ms ± 127 µs per loop (mean ± std. dev. of 7 runs, 100 loops each)\n"
     ]
    }
   ],
   "source": [
    "import timeit\n",
    "\n",
    "def vectorized(y):\n",
    "    pos = (y==1)\n",
    "    return pos\n",
    "    \n",
    "def not_vectorized(y):\n",
    "    len = y.shape[0]\n",
    "    pos = np.zeros(len)\n",
    "    for i in range(len):\n",
    "        pos = y[i]==1\n",
    "    return y\n",
    "\n",
    "y = 2*np.random.randint(2, size=10000)-1\n",
    "\n",
    "%timeit -n 100 vectorized(y)\n",
    "%timeit -n 100 not_vectorized(y)"
   ]
  },
  {
   "cell_type": "markdown",
   "metadata": {},
   "source": [
    "Notice also the use here of [broadcasting](http://docs.scipy.org/doc/numpy/user/basics.broadcasting.html). For instance, in the line defining y, when we multiply the random array with 2, or subtracting 1, in fact the values 2 and 1 are treated as 1 dimensional arrays of size 1, which are then expanded into 1 dimensional arrays of size 10000, where the single entry is duplicated."
   ]
  },
  {
   "cell_type": "markdown",
   "metadata": {},
   "source": [
    "## Operations on vectors and matrices as NumPy arrays\n",
    "\n",
    "In NumPy 1-dimensional arrays naturally models vectors and 2-dimensional arrays naturally models matrices."
   ]
  },
  {
   "cell_type": "code",
   "execution_count": 7,
   "metadata": {},
   "outputs": [
    {
     "name": "stdout",
     "output_type": "stream",
     "text": [
      "a = [1 2 3], ndim=1, shape=(3,)\n",
      "b = [[1 2 3]], ndim=2, shape=(1, 3)\n",
      "c = \n",
      "[[1]\n",
      " [2]\n",
      " [3]], ndim=2, shape=(3, 1)\n",
      "aA = [30 36 42]\n",
      "Aa = [14 32 50]\n",
      "bA = [[30 36 42]]\n",
      "cA = [[14]\n",
      " [32]\n",
      " [50]]\n"
     ]
    }
   ],
   "source": [
    "a = np.array([1,2,3])     # 3-dimensional vector\n",
    "b = np.array([[1,2,3]])   # 3-dimensional row vector (1x3 matrix)\n",
    "c = np.array([[1,2,3]]).T # 3-dimensional column vector (3x1 matrix)\n",
    "print('a = {}, ndim={}, shape={}'.format(a,a.ndim, a.shape))\n",
    "print('b = {}, ndim={}, shape={}'.format(b,b.ndim, b.shape))\n",
    "print('c = \\n{}, ndim={}, shape={}'.format(c,c.ndim, c.shape))\n",
    "A=np.arange(1,10).reshape(3,3)\n",
    "print('aA =',np.dot(a,A))\n",
    "print('Aa =',np.dot(A,a))\n",
    "print('bA =',np.dot(b,A))\n",
    "print('cA =',np.dot(A,c))"
   ]
  },
  {
   "cell_type": "markdown",
   "metadata": {},
   "source": [
    "Notice that when multiplying the vector <tt>a</tt>\n",
    "with the matrix <tt>A</tt> on the left, <tt>a</tt> behaves as a row vector, and when multiplying on the right <tt>a</tt> behaves as a column vector. The result is always a vector, whereas when multiplying by the corresponding row and column vectors <tt>b</tt> and <tt>c</tt> the result is again a row or column vector (since it is actually a matrix product).\n",
    "\n",
    "With Python 3.5 and above we may also use the <tt>@</tt> operator, which is a shorthand for the matmul function (which can be used instead of the dot function)."
   ]
  },
  {
   "cell_type": "code",
   "execution_count": 8,
   "metadata": {},
   "outputs": [
    {
     "name": "stdout",
     "output_type": "stream",
     "text": [
      "aA = [30 36 42]\n",
      "Aa = [14 32 50]\n",
      "bA = [[30 36 42]]\n",
      "cA = [[14]\n",
      " [32]\n",
      " [50]]\n"
     ]
    }
   ],
   "source": [
    "print('aA =',a@A)\n",
    "print('Aa =',A@a)\n",
    "print('bA =',b@A)\n",
    "print('cA =',A@c)"
   ]
  },
  {
   "cell_type": "markdown",
   "metadata": {},
   "source": [
    "You should mainly use just 1-dimensional arrays for vectors. One can convert between these and row and column vectors as follows:"
   ]
  },
  {
   "cell_type": "code",
   "execution_count": 9,
   "metadata": {},
   "outputs": [
    {
     "name": "stdout",
     "output_type": "stream",
     "text": [
      "a as a row vector : [[1 2 3]]\n",
      "a as a column vector :\n",
      " [[1]\n",
      " [2]\n",
      " [3]]\n",
      "b and c as vectors : [1 2 3] [1 2 3]\n"
     ]
    }
   ],
   "source": [
    "print('a as a row vector :',np.expand_dims(a,axis=0))\n",
    "print('a as a column vector :\\n',np.expand_dims(a,axis=1))\n",
    "print('b and c as vectors :', b.squeeze(),c.squeeze())"
   ]
  },
  {
   "cell_type": "markdown",
   "metadata": {},
   "source": [
    "So what are row and column vectors good for? In conjuction with broadcasting! Suppose we have an array of numbers, one for each row of the matrix, and we wish to subtract the given number for a row from each entry of the row. We can do this by just subtracting a column vector."
   ]
  },
  {
   "cell_type": "code",
   "execution_count": 10,
   "metadata": {},
   "outputs": [
    {
     "name": "stdout",
     "output_type": "stream",
     "text": [
      "[[0 0 0]\n",
      " [3 3 3]\n",
      " [6 6 6]]\n",
      "[[0 0 0]\n",
      " [3 3 3]\n",
      " [6 6 6]]\n",
      "[[0 1 2]\n",
      " [2 3 4]\n",
      " [4 5 6]]\n"
     ]
    }
   ],
   "source": [
    "print(A-a) # subtracting a vector, the vector behaves as a row vector.\n",
    "print(A-b) # subtracting a row vector.\n",
    "print(A-c) # subtracting a column vector"
   ]
  },
  {
   "cell_type": "markdown",
   "metadata": {},
   "source": [
    "Often this happens in the situation where the vector has been computed from the matrix, say with the <tt>mean</tt> operation.\n",
    "In this case it is convinient to use the <tt>keepdims</tt> parameter. Actually, it can be a good idea to always explicitly use row or column vectors for this purpose to avoid confusion and bugs."
   ]
  },
  {
   "cell_type": "code",
   "execution_count": 11,
   "metadata": {},
   "outputs": [
    {
     "name": "stdout",
     "output_type": "stream",
     "text": [
      "The matrix A:\n",
      " [[1 2 3]\n",
      " [4 5 6]\n",
      " [7 8 9]]\n",
      "The means of the rows of A:  [ 2.  5.  8.]\n",
      "and as a column vector:\n",
      " [[ 2.]\n",
      " [ 5.]\n",
      " [ 8.]]\n",
      "Each row translated around the mean:\n",
      " [[-1.  0.  1.]\n",
      " [-1.  0.  1.]\n",
      " [-1.  0.  1.]]\n",
      "And this is not what we wanted:\n",
      " [[ -5 -13 -21]\n",
      " [ -2 -10 -18]\n",
      " [  1  -7 -15]]\n"
     ]
    }
   ],
   "source": [
    "print('The matrix A:\\n',A)\n",
    "print('The means of the rows of A: ',np.mean(A,axis=1))\n",
    "print('and as a column vector:\\n',np.mean(A,axis=1,keepdims=True))\n",
    "print('Each row translated around the mean:\\n',A-np.mean(A,axis=1,keepdims=True))\n",
    "print('And this is not what we wanted:\\n',A-np.sum(A,axis=1))"
   ]
  },
  {
   "cell_type": "markdown",
   "metadata": {},
   "source": [
    "## Workflow of development with IPython\n",
    "\n",
    "You can load and run code files and use within IPython. We can work on a [code file](mycode.py) in an editor, and then load and run it from IPython. The simplest was is by using the built-in magic command %run. This loads and directly runs the code file as a python script. The script is run into the interactive workspace."
   ]
  },
  {
   "cell_type": "code",
   "execution_count": 12,
   "metadata": {},
   "outputs": [
    {
     "name": "stderr",
     "output_type": "stream",
     "text": [
      "ERROR:root:File `'mycode.py'` not found.\n"
     ]
    }
   ],
   "source": [
    "%run mycode"
   ]
  },
  {
   "cell_type": "markdown",
   "metadata": {},
   "source": [
    "Another option is to import the code file as a module. After editing we can then reload the code."
   ]
  },
  {
   "cell_type": "code",
   "execution_count": 13,
   "metadata": {},
   "outputs": [
    {
     "ename": "ModuleNotFoundError",
     "evalue": "No module named 'mycode'",
     "output_type": "error",
     "traceback": [
      "\u001b[0;31m---------------------------------------------------------------------------\u001b[0m",
      "\u001b[0;31mModuleNotFoundError\u001b[0m                       Traceback (most recent call last)",
      "\u001b[0;32m<ipython-input-13-bdb6bf585a53>\u001b[0m in \u001b[0;36m<module>\u001b[0;34m()\u001b[0m\n\u001b[1;32m      1\u001b[0m \u001b[0;32mfrom\u001b[0m \u001b[0mimportlib\u001b[0m \u001b[0;32mimport\u001b[0m \u001b[0mreload\u001b[0m \u001b[0;31m# Python 3.4 and above. For earlier versions consult the documentation.\u001b[0m\u001b[0;34m\u001b[0m\u001b[0m\n\u001b[1;32m      2\u001b[0m \u001b[0;31m# initial load of the code file mycode.py\u001b[0m\u001b[0;34m\u001b[0m\u001b[0;34m\u001b[0m\u001b[0m\n\u001b[0;32m----> 3\u001b[0;31m \u001b[0;32mimport\u001b[0m \u001b[0mmycode\u001b[0m\u001b[0;34m\u001b[0m\u001b[0m\n\u001b[0m\u001b[1;32m      4\u001b[0m \u001b[0mmycode\u001b[0m\u001b[0;34m.\u001b[0m\u001b[0mmain\u001b[0m\u001b[0;34m(\u001b[0m\u001b[0;34m)\u001b[0m\u001b[0;34m\u001b[0m\u001b[0m\n\u001b[1;32m      5\u001b[0m \u001b[0;31m# After editing the file, we can reload and run\u001b[0m\u001b[0;34m\u001b[0m\u001b[0;34m\u001b[0m\u001b[0m\n",
      "\u001b[0;31mModuleNotFoundError\u001b[0m: No module named 'mycode'"
     ]
    }
   ],
   "source": [
    "from importlib import reload # Python 3.4 and above. For earlier versions consult the documentation.\n",
    "# initial load of the code file mycode.py\n",
    "import mycode\n",
    "mycode.main()\n",
    "# After editing the file, we can reload and run\n",
    "reload(mycode)\n",
    "mycode.main()"
   ]
  }
 ],
 "metadata": {
  "anaconda-cloud": {},
  "kernelspec": {
   "display_name": "Python 3",
   "language": "python",
   "name": "python3"
  },
  "language_info": {
   "codemirror_mode": {
    "name": "ipython",
    "version": 3
   },
   "file_extension": ".py",
   "mimetype": "text/x-python",
   "name": "python",
   "nbconvert_exporter": "python",
   "pygments_lexer": "ipython3",
   "version": "3.6.1"
  }
 },
 "nbformat": 4,
 "nbformat_minor": 2
}
